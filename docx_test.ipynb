{
 "cells": [
  {
   "cell_type": "code",
   "execution_count": 12,
   "metadata": {},
   "outputs": [],
   "source": [
    "from docx import Document\n",
    "from docx.shared import Inches, Cm\n",
    "import platform\n",
    "import random"
   ]
  },
  {
   "cell_type": "code",
   "execution_count": 15,
   "metadata": {},
   "outputs": [],
   "source": [
    "doc = Document()\n",
    "doc.add_heading('STORE_NAME', 0)\n",
    "f_name = f'''Facture N°: 1, for : 25-05-2020'''\n",
    "\n",
    "doc.add_heading(f_name, 1)\n",
    "colss = 8\n",
    "table = doc.add_table(rows=3, cols=colss)\n",
    "table.style = 'Table Grid'\n",
    "sections = doc.sections\n",
    "for section in sections:\n",
    "    section.top_margin = Cm(1.5)\n",
    "    section.bottom_margin = Cm(1.5)\n",
    "    section.left_margin = Cm(1.5)\n",
    "    section.right_margin = Cm(1.5)\n",
    "\n",
    "rows = [['Canned Cobra', '5607', 'OLED Modules', '5', 'sdf', '865', 'Yes', '4325 DH'], ['Aerosol Cheese', '3410', 'Data Conversion Misc', '4', 'sfdf', '707', 'Yes', '2828 DH'], ['A Dog’s Life Gourmet Chews', '3967', 'Computer Peripherals ', '4', 'sdf', '343', 'Yes', '1372 DH'], ['Achy Breaky Chatterbox', '2247', 'Mechanical Encoders', '4', 'dfs', '369', 'Yes', '1476 DH'], ['A Brisket a Tasket', '14621', 'Capacitor Other', '4', 'sdf', '411', 'Yes', '1644 DH']]\n",
    "hdr_cells = table.rows[0].cells\n",
    "for i, c in enumerate([ 'Product', 'Code', 'Categorie', 'Quantity', 'Seller', 'Price', 'Paid', 'Total']):\n",
    "    hdr_cells[i].text = c\n",
    "\n",
    "table.left_margin = Cm(1.5)\n",
    "table.right_margin = Cm(1.5)\n",
    "\n",
    "for row in rows:\n",
    "    tr = table.add_row()\n",
    "    for idx, col in enumerate(row):\n",
    "        tr.cells[idx].text = col if col else '-'\n",
    "\n",
    "# filename = QtWidgets.QFileDialog.getSaveFileName(caption='Print Facture', filter=\"Word (*.doc *.docx)\", directory=DESKTOP)[0]\n",
    "filename = 'test.docx'\n",
    "# if not QFileInfo(filename).suffix():\n",
    "#     filename += '.docx'\n",
    "doc.save(filename)"
   ]
  }
 ],
 "metadata": {
  "kernelspec": {
   "display_name": "Python 3",
   "language": "python",
   "name": "python3"
  },
  "language_info": {
   "codemirror_mode": {
    "name": "ipython",
    "version": 3
   },
   "file_extension": ".py",
   "mimetype": "text/x-python",
   "name": "python",
   "nbconvert_exporter": "python",
   "pygments_lexer": "ipython3",
   "version": "3.8.3"
  }
 },
 "nbformat": 4,
 "nbformat_minor": 4
}
